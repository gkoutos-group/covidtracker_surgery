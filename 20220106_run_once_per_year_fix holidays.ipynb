{
 "cells": [
  {
   "cell_type": "markdown",
   "id": "improving-assets",
   "metadata": {},
   "source": [
    "you'll need to download the \"bank holidays in the uk 202x\" from google"
   ]
  },
  {
   "cell_type": "code",
   "execution_count": 5,
   "id": "deadly-appliance",
   "metadata": {},
   "outputs": [],
   "source": [
    "from datetime import datetime\n",
    "import pandas as pd\n",
    "import numpy as np"
   ]
  },
  {
   "cell_type": "code",
   "execution_count": 7,
   "id": "portable-saver",
   "metadata": {},
   "outputs": [],
   "source": [
    "dfh = pd.read_csv('20220106_holidays.csv')"
   ]
  },
  {
   "cell_type": "code",
   "execution_count": 13,
   "id": "closing-ferry",
   "metadata": {},
   "outputs": [],
   "source": [
    "dfh['date'] = pd.to_datetime(dfh['date'].apply(lambda x: x[5:]), format='%d %b %Y')"
   ]
  },
  {
   "cell_type": "code",
   "execution_count": 14,
   "id": "rural-detector",
   "metadata": {},
   "outputs": [],
   "source": [
    "dfh.to_csv('20220106_holidays_processed.csv', index = False)"
   ]
  }
 ],
 "metadata": {
  "kernelspec": {
   "display_name": "Python 3",
   "language": "python",
   "name": "python3"
  },
  "language_info": {
   "codemirror_mode": {
    "name": "ipython",
    "version": 3
   },
   "file_extension": ".py",
   "mimetype": "text/x-python",
   "name": "python",
   "nbconvert_exporter": "python",
   "pygments_lexer": "ipython3",
   "version": "3.8.8"
  }
 },
 "nbformat": 4,
 "nbformat_minor": 5
}
