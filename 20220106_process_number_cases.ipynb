{
 "cells": [
  {
   "cell_type": "markdown",
   "id": "incident-peeing",
   "metadata": {},
   "source": [
    "!jupyter nbconvert 20220106_process_number_cases.ipynb --to script"
   ]
  },
  {
   "cell_type": "code",
   "execution_count": 114,
   "id": "modern-vaccine",
   "metadata": {},
   "outputs": [],
   "source": [
    "REFERENCE_FILE = 'electiveactivity_5jan22.xlsx'\n",
    "REFERENCE_FILE_SHEET = 'Sheet1'\n",
    "\n",
    "HOLIDAYS_FILE = '20220106_holidays_processed.csv'\n",
    "YEAR_RANGE = [2021, 2022]\n",
    "\n",
    "GOVDATA_FILE = 'coronavirus.csv' # download daily\n",
    "\n",
    "OUTPUT_FILE = '20220106_shiny_ready.csv'\n",
    "\n",
    "def FORMULA(H__n_of_hospitalCases): # elective surgery rate\n",
    "    return 0.8412 * ( 0.9852 ** (H__n_of_hospitalCases / 1000) )"
   ]
  },
  {
   "cell_type": "code",
   "execution_count": 110,
   "id": "included-angel",
   "metadata": {},
   "outputs": [],
   "source": [
    "import pandas as pd\n",
    "import numpy as np\n",
    "from datetime import datetime, timedelta\n",
    "import calendar"
   ]
  },
  {
   "cell_type": "code",
   "execution_count": 81,
   "id": "warming-heating",
   "metadata": {},
   "outputs": [],
   "source": [
    "df = pd.read_excel(REFERENCE_FILE, sheet_name=REFERENCE_FILE_SHEET)\n",
    "df['last_date'] = pd.to_datetime(df['Month'])\n",
    "df['year'] = df['last_date'].dt.year\n",
    "df['month'] = df['last_date'].dt.month"
   ]
  },
  {
   "cell_type": "code",
   "execution_count": 62,
   "id": "juvenile-richmond",
   "metadata": {},
   "outputs": [],
   "source": [
    "dfholidays = pd.read_csv(HOLIDAYS_FILE)\n",
    "dfholidays['date'] = pd.to_datetime(dfholidays['date']).dt.strftime(\"%Y-%m-%d\") # this will make things easier to process"
   ]
  },
  {
   "cell_type": "code",
   "execution_count": 47,
   "id": "lovely-swimming",
   "metadata": {},
   "outputs": [],
   "source": [
    "dfgov = pd.read_csv(GOVDATA_FILE)\n",
    "dfgov['date'] = pd.to_datetime(dfgov['date'])"
   ]
  },
  {
   "cell_type": "code",
   "execution_count": 41,
   "id": "progressive-price",
   "metadata": {},
   "outputs": [
    {
     "data": {
      "text/html": [
       "<div>\n",
       "<style scoped>\n",
       "    .dataframe tbody tr th:only-of-type {\n",
       "        vertical-align: middle;\n",
       "    }\n",
       "\n",
       "    .dataframe tbody tr th {\n",
       "        vertical-align: top;\n",
       "    }\n",
       "\n",
       "    .dataframe thead th {\n",
       "        text-align: right;\n",
       "    }\n",
       "</style>\n",
       "<table border=\"1\" class=\"dataframe\">\n",
       "  <thead>\n",
       "    <tr style=\"text-align: right;\">\n",
       "      <th></th>\n",
       "      <th>areaCode</th>\n",
       "      <th>areaName</th>\n",
       "      <th>areaType</th>\n",
       "      <th>date</th>\n",
       "      <th>hospitalCases</th>\n",
       "    </tr>\n",
       "  </thead>\n",
       "  <tbody>\n",
       "    <tr>\n",
       "      <th>0</th>\n",
       "      <td>K02000001</td>\n",
       "      <td>United Kingdom</td>\n",
       "      <td>overview</td>\n",
       "      <td>2022-01-04</td>\n",
       "      <td>17276</td>\n",
       "    </tr>\n",
       "    <tr>\n",
       "      <th>1</th>\n",
       "      <td>K02000001</td>\n",
       "      <td>United Kingdom</td>\n",
       "      <td>overview</td>\n",
       "      <td>2022-01-03</td>\n",
       "      <td>16309</td>\n",
       "    </tr>\n",
       "    <tr>\n",
       "      <th>2</th>\n",
       "      <td>K02000001</td>\n",
       "      <td>United Kingdom</td>\n",
       "      <td>overview</td>\n",
       "      <td>2022-01-02</td>\n",
       "      <td>15128</td>\n",
       "    </tr>\n",
       "    <tr>\n",
       "      <th>3</th>\n",
       "      <td>K02000001</td>\n",
       "      <td>United Kingdom</td>\n",
       "      <td>overview</td>\n",
       "      <td>2022-01-01</td>\n",
       "      <td>14496</td>\n",
       "    </tr>\n",
       "    <tr>\n",
       "      <th>4</th>\n",
       "      <td>K02000001</td>\n",
       "      <td>United Kingdom</td>\n",
       "      <td>overview</td>\n",
       "      <td>2021-12-31</td>\n",
       "      <td>14176</td>\n",
       "    </tr>\n",
       "  </tbody>\n",
       "</table>\n",
       "</div>"
      ],
      "text/plain": [
       "    areaCode        areaName  areaType        date  hospitalCases\n",
       "0  K02000001  United Kingdom  overview  2022-01-04          17276\n",
       "1  K02000001  United Kingdom  overview  2022-01-03          16309\n",
       "2  K02000001  United Kingdom  overview  2022-01-02          15128\n",
       "3  K02000001  United Kingdom  overview  2022-01-01          14496\n",
       "4  K02000001  United Kingdom  overview  2021-12-31          14176"
      ]
     },
     "execution_count": 41,
     "metadata": {},
     "output_type": "execute_result"
    }
   ],
   "source": [
    "dfgov.head()"
   ]
  },
  {
   "cell_type": "code",
   "execution_count": 72,
   "id": "bright-identity",
   "metadata": {},
   "outputs": [],
   "source": [
    "# get number of working days per month\n",
    "year_month_working_days = {'year': [],\n",
    "                           'month': [],\n",
    "                           'working_days': []}\n",
    "\n",
    "holidays_processed = 0\n",
    "\n",
    "for y in range(YEAR_RANGE[0], YEAR_RANGE[1]): # only 2021 and 2022\n",
    "    for m in range(1, 13): # from 1 to 12\n",
    "        _, e = calendar.monthrange(y, m) # first working day and last day of month\n",
    "        wd = 0 # number of working days\n",
    "        for d in pd.date_range(datetime(y, m, 1), datetime(y, m, e)):\n",
    "            if (d.weekday() <= 4):\n",
    "                if d.strftime(\"%Y-%m-%d\") in dfholidays['date'].values:\n",
    "                    holidays_processed += 1\n",
    "                else:\n",
    "                    wd += 1\n",
    "        year_month_working_days['year'].append(y)\n",
    "        year_month_working_days['month'].append(m)\n",
    "        year_month_working_days['working_days'].append(wd)\n",
    "        \n",
    "assert holidays_processed == dfholidays.shape[0], \"There were issues calculating the number of working days in the month, probably code error\"\n",
    "\n",
    "dfworking_days = pd.DataFrame(year_month_working_days)"
   ]
  },
  {
   "cell_type": "code",
   "execution_count": 82,
   "id": "alternative-wagon",
   "metadata": {},
   "outputs": [],
   "source": [
    "df = df.merge(dfworking_days, \n",
    "              on=['year', 'month'], how='left')\n",
    "df['daily_expected'] = df['Expected volume']/df['working_days']"
   ]
  },
  {
   "cell_type": "markdown",
   "id": "disturbed-interview",
   "metadata": {},
   "source": [
    "calculate:\n",
    "- percentage reduction in elective\n",
    "- drop daily in elective operations\n",
    "- running total since December 1st 2021\n",
    "- running total since March 1st 2020"
   ]
  },
  {
   "cell_type": "code",
   "execution_count": 76,
   "id": "usual-script",
   "metadata": {},
   "outputs": [],
   "source": [
    "max_surgery = df['last_date'].max()\n",
    "max_govdata = dfgov['date'].max() ### change"
   ]
  },
  {
   "cell_type": "code",
   "execution_count": 111,
   "id": "mineral-sleeping",
   "metadata": {},
   "outputs": [],
   "source": [
    "# cumulative total from df\n",
    "cum_all = np.sum(df['Drop from expected volume'])\n",
    "cum_from_december_first = np.sum(df[df['last_date'] >= datetime(2021, 12, 1)]['Drop from expected volume'])\n",
    "\n",
    "daily_data = {'year': [],\n",
    "              'month': [],\n",
    "              'day': [],\n",
    "              'hosp_days': [],\n",
    "              'expected_surg_day': [],\n",
    "              'percent_op': [],\n",
    "              'percent_op_red': [],\n",
    "              'daily_cancellations': [],\n",
    "              'cum_all': [],\n",
    "              'cum_dec': []}\n",
    "\n",
    "#cwd = 0 # current working days passed in month\n",
    "for d in pd.date_range(max_surgery + timedelta(days=1), max_govdata): # this date range is inclusive\n",
    "    if (d.weekday() <= 4):\n",
    "        if d.strftime(\"%Y-%m-%d\") in dfholidays['date'].values:\n",
    "            continue\n",
    "        else:\n",
    "            #cwd += 1\n",
    "           \n",
    "            # get hospitalisation data from gov file\n",
    "            assert len(dfgov[dfgov['date'] == d]['hospitalCases'].values) == 1, \"Number of coronadata not equal to 1\"\n",
    "            hospitalisations_day = dfgov[dfgov['date'] == d]['hospitalCases'].values[0]\n",
    "            # expected surgery number daily uses the estimate from previous year!!\n",
    "            assert len(df[(df['month'] == d.month) & (df['year'] == (d.year - 1))]['daily_expected'].values) == 1, \"Number of daily surgeries not equal to 1\"\n",
    "            expected_surgery_day = df[(df['month'] == d.month) & (df['year'] == (d.year - 1))]['daily_expected'].values[0]\n",
    "            \n",
    "            # calculate other needed data\n",
    "            percent_operations = FORMULA(hospitalisations_day)\n",
    "            percent_reduction_operations = 1 - percent_operations\n",
    "            daily_rate_cancelations = percent_reduction_operations * expected_surgery_day\n",
    "            \n",
    "            cum_all += daily_rate_cancelations\n",
    "            cum_from_december_first += daily_rate_cancelations\n",
    "            \n",
    "            daily_data['year'].append(d.year)\n",
    "            daily_data['month'].append(d.month)\n",
    "            daily_data['day'].append(d.day)\n",
    "            daily_data['hosp_days'].append(hospitalisations_day)\n",
    "            daily_data['expected_surg_day'].append(expected_surgery_day)\n",
    "            daily_data['percent_op'].append(percent_operations)\n",
    "            daily_data['percent_op_red'].append(percent_reduction_operations)\n",
    "            daily_data['daily_cancellations'].append(daily_rate_cancelations)\n",
    "            daily_data['cum_all'].append(cum_all)\n",
    "            daily_data['cum_dec'].append(cum_from_december_first)\n",
    "            \n",
    "            \n",
    "# verify the data\n",
    "_els = [len(e) for e in daily_data.values()]\n",
    "for i in _els:\n",
    "    assert i == max(_els), \"number of data elements different in processed data\""
   ]
  },
  {
   "cell_type": "code",
   "execution_count": 123,
   "id": "starting-principal",
   "metadata": {},
   "outputs": [],
   "source": [
    "complete_data = pd.DataFrame(daily_data)\n",
    "complete_data['date'] = complete_data['year'].map(str) + '-' + complete_data['month'].map(str) + '-' + complete_data['day'].map(str)\n",
    "complete_data['date'] = pd.to_datetime(complete_data['date'], format=\"%Y-%m-%d\")\n",
    "complete_data['formatted'] = complete_data['date'].dt.strftime('%A, %d %B %Y')"
   ]
  },
  {
   "cell_type": "code",
   "execution_count": 124,
   "id": "chief-colleague",
   "metadata": {},
   "outputs": [],
   "source": [
    "complete_data.to_csv(OUTPUT_FILE, index=False)"
   ]
  }
 ],
 "metadata": {
  "kernelspec": {
   "display_name": "Python 3",
   "language": "python",
   "name": "python3"
  },
  "language_info": {
   "codemirror_mode": {
    "name": "ipython",
    "version": 3
   },
   "file_extension": ".py",
   "mimetype": "text/x-python",
   "name": "python",
   "nbconvert_exporter": "python",
   "pygments_lexer": "ipython3",
   "version": "3.8.8"
  }
 },
 "nbformat": 4,
 "nbformat_minor": 5
}
